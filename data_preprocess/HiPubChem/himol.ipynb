{
 "cells": [
  {
   "cell_type": "markdown",
   "metadata": {},
   "source": [
    "### 1"
   ]
  },
  {
   "cell_type": "code",
   "execution_count": 1,
   "metadata": {},
   "outputs": [
    {
     "name": "stdout",
     "output_type": "stream",
     "text": [
      "/workspace/HiMol\n"
     ]
    }
   ],
   "source": [
    "cd /workspace/HiMol"
   ]
  },
  {
   "cell_type": "code",
   "execution_count": 2,
   "metadata": {},
   "outputs": [
    {
     "name": "stderr",
     "output_type": "stream",
     "text": [
      "/opt/conda/envs/hight/lib/python3.10/site-packages/tqdm/auto.py:21: TqdmWarning: IProgress not found. Please update jupyter and ipywidgets. See https://ipywidgets.readthedocs.io/en/stable/user_install.html\n",
      "  from .autonotebook import tqdm as notebook_tqdm\n"
     ]
    },
    {
     "data": {
      "text/plain": [
       "<data_utils.MolGraph at 0x7ff846cb3fa0>"
      ]
     },
     "execution_count": 2,
     "metadata": {},
     "output_type": "execute_result"
    }
   ],
   "source": [
    "from data_utils import MolGraph\n",
    "\n",
    "smiles = \"CC(=O)OC1=CC=CC=C1C(=O)O\"\n",
    "mol_graph = MolGraph(smiles)\n",
    "mol_graph"
   ]
  },
  {
   "cell_type": "code",
   "execution_count": 3,
   "metadata": {},
   "outputs": [
    {
     "name": "stdout",
     "output_type": "stream",
     "text": [
      "edge_attr\n",
      "edge_attr_nosuper\n",
      "edge_index\n",
      "edge_index_nosuper\n",
      "mol\n",
      "num_part\n",
      "size_atom\n",
      "size_bond\n",
      "size_edge\n",
      "size_node\n",
      "smiles\n",
      "x\n",
      "x_nosuper\n"
     ]
    }
   ],
   "source": [
    "for k in dir(mol_graph):\n",
    "    if not k.startswith(\"_\"):\n",
    "        print(k)"
   ]
  },
  {
   "cell_type": "code",
   "execution_count": 4,
   "metadata": {},
   "outputs": [
    {
     "name": "stdout",
     "output_type": "stream",
     "text": [
      "atoms: 13\n"
     ]
    },
    {
     "data": {
      "image/png": "[encoded data removed]",
      "text/plain": [
       "<rdkit.Chem.rdchem.Mol at 0x7ff6da8c9ee0>"
      ]
     },
     "execution_count": 4,
     "metadata": {},
     "output_type": "execute_result"
    }
   ],
   "source": [
    "print(\"atoms:\", len(mol_graph.mol.GetAtoms()))\n",
    "mol_graph.mol"
   ]
  },
  {
   "cell_type": "code",
   "execution_count": 5,
   "metadata": {},
   "outputs": [
    {
     "name": "stdout",
     "output_type": "stream",
     "text": [
      "num_nodes = 18 = sum(13, 4, 1)\n"
     ]
    }
   ],
   "source": [
    "print(f\"num_nodes = {mol_graph.x.shape[0]} = sum({', '.join(map(str, mol_graph.num_part))})\")"
   ]
  },
  {
   "cell_type": "code",
   "execution_count": 6,
   "metadata": {},
   "outputs": [
    {
     "data": {
      "text/plain": [
       "[[0, 1, 2], [4, 5, 6, 7, 8, 9], [10, 11, 12], [3]]"
      ]
     },
     "execution_count": 6,
     "metadata": {},
     "output_type": "execute_result"
    }
   ],
   "source": [
    "from data_utils import motif_decomp\n",
    "\n",
    "cliques = motif_decomp(mol_graph.mol)\n",
    "cliques"
   ]
  },
  {
   "cell_type": "code",
   "execution_count": null,
   "metadata": {},
   "outputs": [
    {
     "data": {
      "text/plain": [
       "([[0, 1, 2], [4, 5, 6, 7, 8, 9], [10, 11, 12], [3]],\n",
       " ['[#6]-[#6]=[#8]',\n",
       "  '[#6]1:[#6]:[#6]:[#6]:[#6]:[#6]:1',\n",
       "  '[#8]=[#6]-[#8]',\n",
       "  '[#8]'],\n",
       " ['CC=O', 'c1ccccc1', 'O=CO', 'O'])"
      ]
     },
     "execution_count": 7,
     "metadata": {},
     "output_type": "execute_result"
    }
   ],
   "source": [
    "from rdkit import Chem\n",
    "from rdkit.Chem import BRICS\n",
    "from chemutils import get_clique_mol\n",
    "mol = mol_graph.mol\n",
    "\n",
    "n_atoms = mol.GetNumAtoms()\n",
    "if n_atoms == 1:\n",
    "    print(\"This molecule has just ONE atoms - No Motifs\")\n",
    "\n",
    "# 모든 bond 각각을 clique로 추가\n",
    "cliques = []  \n",
    "for bond in mol.GetBonds():\n",
    "    a1 = bond.GetBeginAtom().GetIdx()\n",
    "    a2 = bond.GetEndAtom().GetIdx()\n",
    "    cliques.append([a1, a2])\n",
    "\n",
    "# BRICS decomposition 수행\n",
    "res = list(BRICS.FindBRICSBonds(mol)) \n",
    "breaks = []\n",
    "if len(res) != 0:\n",
    "    for bond in res:\n",
    "        # 추출한 bond가 이미 clique에 들어 있는지 확인하고 제거\n",
    "        # 1. src -> tgt 있는지 확인하고 제거\n",
    "        if [bond[0][0], bond[0][1]] in cliques:\n",
    "            cliques.remove([bond[0][0], bond[0][1]])\n",
    "        # 아니라면 == 2. tgt -> src 있는지 확인하고 제거\n",
    "        else:\n",
    "            cliques.remove([bond[0][1], bond[0][0]])\n",
    "        \n",
    "        # 각 원자를 개별 clique로 추가\n",
    "        cliques.append([bond[0][0]])\n",
    "        cliques.append([bond[0][1]]) \n",
    "\n",
    "        # BRICS로 인해 절단된 지점 저장\n",
    "        breaks.append(bond)\n",
    "\n",
    "# clique 병합 -> BRICS는 unique하게 뽑는 게 아니라, 뽑을 수 있는 모든 걸 뽑음\n",
    "# merge cliques\n",
    "for c in range(len(cliques) - 1):\n",
    "    for k in range(c + 1, len(cliques)):\n",
    "        # 교집합이 있다면 병합\n",
    "        if len(set(cliques[c]) & set(cliques[k])) > 0: \n",
    "            cliques[c] = list(set(cliques[c]) | set(cliques[k]))\n",
    "            cliques[k] = []\n",
    "# 1. 빈 리스트로 설정된 (cliques[k] = []) clique들 제거\n",
    "# 2. 전체 원자수보다 작은 clique만 유지\n",
    "cliques = [c for c in cliques if len(c) > 0]\n",
    "cliques = [c for c in cliques if n_atoms > len(c)]\n",
    "\n",
    "# Ring 처리\n",
    "num_cli = len(cliques)\n",
    "ssr_mol = Chem.GetSymmSSSR(mol)\n",
    "for i in range(num_cli):\n",
    "    c = cliques[i]\n",
    "    cmol = get_clique_mol(mol, c)\n",
    "    ssr = Chem.GetSymmSSSR(cmol)\n",
    "    if len(ssr)>1:\n",
    "        for ring in ssr_mol:\n",
    "            if len(set(list(ring)) & set(c)) == len(list(ring)):\n",
    "                cliques.append(list(ring))\n",
    "                cliques[i] = list(set(cliques[i]) - set(list(ring)))\n",
    "cliques = [c for c in cliques if n_atoms> len(c) > 0]\n",
    "\n",
    "# 각 clique에 대한 SMARTS 생성\n",
    "clique_smarts = []\n",
    "clique_smiles = []\n",
    "for c in cliques:\n",
    "    frag = get_clique_mol(mol, c)\n",
    "    smarts = Chem.MolToSmarts(frag)\n",
    "    smiles = Chem.MolToSmiles(frag)\n",
    "    clique_smarts.append(smarts)\n",
    "    clique_smiles.append(smiles)\n",
    "\n",
    "cliques, clique_smarts, clique_smiles"
   ]
  },
  {
   "cell_type": "code",
   "execution_count": 8,
   "metadata": {},
   "outputs": [],
   "source": [
    "import pandas as pd"
   ]
  },
  {
   "cell_type": "code",
   "execution_count": 31,
   "metadata": {},
   "outputs": [
    {
     "data": {
      "text/html": [
       "<div>\n",
       "<style scoped>\n",
       "    .dataframe tbody tr th:only-of-type {\n",
       "        vertical-align: middle;\n",
       "    }\n",
       "\n",
       "    .dataframe tbody tr th {\n",
       "        vertical-align: top;\n",
       "    }\n",
       "\n",
       "    .dataframe thead th {\n",
       "        text-align: right;\n",
       "    }\n",
       "</style>\n",
       "<table border=\"1\" class=\"dataframe\">\n",
       "  <thead>\n",
       "    <tr style=\"text-align: right;\">\n",
       "      <th></th>\n",
       "      <th>Code</th>\n",
       "      <th>Description</th>\n",
       "      <th>SMARTS</th>\n",
       "      <th>MOE_SMARTS</th>\n",
       "      <th>Notes</th>\n",
       "    </tr>\n",
       "  </thead>\n",
       "  <tbody>\n",
       "    <tr>\n",
       "      <th>0</th>\n",
       "      <td>fr_C=O</td>\n",
       "      <td>Number of carbonyl O</td>\n",
       "      <td>[CX3]=[OX1]</td>\n",
       "      <td>C=O</td>\n",
       "      <td>Includes carboxylic acids, esters, amides, etc.</td>\n",
       "    </tr>\n",
       "    <tr>\n",
       "      <th>1</th>\n",
       "      <td>fr_C=O_noCOO</td>\n",
       "      <td>Number of carbonyl O, excluding COOH</td>\n",
       "      <td>[C!$(C-[OH])]=O</td>\n",
       "      <td>[C!$(C-[OH])]=O</td>\n",
       "      <td>Excludes COOH but not COO- (assumes no formal ...</td>\n",
       "    </tr>\n",
       "    <tr>\n",
       "      <th>2</th>\n",
       "      <td>fr_Al_OH</td>\n",
       "      <td>Number of aliphatic hydroxyl groups</td>\n",
       "      <td>[C!$(C=O)]-[OH]</td>\n",
       "      <td>[C!$(C=O)]-[OH]</td>\n",
       "      <td>Excludes COOH but not COO- (assumes no formal ...</td>\n",
       "    </tr>\n",
       "    <tr>\n",
       "      <th>3</th>\n",
       "      <td>fr_Ar_OH</td>\n",
       "      <td>Number of aromatic hydroxyl groups</td>\n",
       "      <td>c[OH1]</td>\n",
       "      <td>c[OH1]</td>\n",
       "      <td>-</td>\n",
       "    </tr>\n",
       "    <tr>\n",
       "      <th>4</th>\n",
       "      <td>fr_methoxy</td>\n",
       "      <td>Number of methoxy groups -OCH3</td>\n",
       "      <td>[OX2](-[#6])-[CH3]</td>\n",
       "      <td>O(-[#6])-CH3</td>\n",
       "      <td>Aliphatic. Includes esters. Includes OMe group...</td>\n",
       "    </tr>\n",
       "  </tbody>\n",
       "</table>\n",
       "</div>"
      ],
      "text/plain": [
       "           Code                           Description              SMARTS  \\\n",
       "0        fr_C=O                  Number of carbonyl O         [CX3]=[OX1]   \n",
       "1  fr_C=O_noCOO  Number of carbonyl O, excluding COOH     [C!$(C-[OH])]=O   \n",
       "2      fr_Al_OH   Number of aliphatic hydroxyl groups     [C!$(C=O)]-[OH]   \n",
       "3      fr_Ar_OH    Number of aromatic hydroxyl groups              c[OH1]   \n",
       "4    fr_methoxy        Number of methoxy groups -OCH3  [OX2](-[#6])-[CH3]   \n",
       "\n",
       "        MOE_SMARTS                                              Notes  \n",
       "0              C=O    Includes carboxylic acids, esters, amides, etc.  \n",
       "1  [C!$(C-[OH])]=O  Excludes COOH but not COO- (assumes no formal ...  \n",
       "2  [C!$(C=O)]-[OH]  Excludes COOH but not COO- (assumes no formal ...  \n",
       "3           c[OH1]                                                  -  \n",
       "4     O(-[#6])-CH3  Aliphatic. Includes esters. Includes OMe group...  "
      ]
     },
     "execution_count": 31,
     "metadata": {},
     "output_type": "execute_result"
    }
   ],
   "source": [
    "frags = pd.read_csv(\"/workspace/GraphGPT/HIGHT/data_preprocess/HiPubChem/rdkit_Data_FragmentDescriptors.csv\")\n",
    "frags.head()"
   ]
  },
  {
   "cell_type": "code",
   "execution_count": 34,
   "metadata": {},
   "outputs": [
    {
     "data": {
      "text/plain": [
       "['[CX3]=[OX1]',\n",
       " '[C!$(C-[OH])]=O',\n",
       " '[C!$(C=O)]-[OH]',\n",
       " 'c[OH1]',\n",
       " '[OX2](-[#6])-[CH3]',\n",
       " '[CX3]=[NX2]-[OX2]',\n",
       " '[#6][CX3](=O)[OX2H0][#6]',\n",
       " 'C-C(=O)[O;H1,-]',\n",
       " 'c-C(=O)[O;H1,-]',\n",
       " '[#6]C(=O)[O;H,-1]',\n",
       " '[CX3](=O)[OX1H0-,OX2H1]',\n",
       " '[#6][CX3](=O)[#6]',\n",
       " '[OD2]([#6])[#6]',\n",
       " '[OX2H]-c1ccccc1',\n",
       " '[CX3H1](=O)[#6]',\n",
       " '[$([NX4+]),$([NX4]=*)]',\n",
       " '[NH2,nH2]',\n",
       " '[NH1,nH1]',\n",
       " '[NH0,nH0]',\n",
       " 'n',\n",
       " '[nH]',\n",
       " 'c-[NX3;!$(N=*)]',\n",
       " '[Nv3](=C)-[#6]',\n",
       " '[NX1]#[CX2]',\n",
       " '[NX3]-[NX3]',\n",
       " 'C=N-[NX3]',\n",
       " '[N!$(N-O)]=O',\n",
       " '[N!$(N=O)](-O)-C',\n",
       " '[$([NX3](=O)=O),$([NX3+](=O)[O-])][!#8]',\n",
       " 'N(=O)(O)[#6]',\n",
       " '[#6]-N=N-[#6]',\n",
       " '[N+]#N',\n",
       " '[$(*-[NX2-]-[NX2+]#[NX1]),$(*-[NX2]=[NX2+]=[NX1-])]',\n",
       " 'C(=O)-N',\n",
       " 'C(=O)-[NH2]',\n",
       " 'C(=N)(-N)-[!#7]',\n",
       " 'C(=N)(N)N',\n",
       " '[nH]',\n",
       " 'N(-C(=O))-C=O',\n",
       " 'N=C=O',\n",
       " 'N=C=S',\n",
       " 'S-C#N',\n",
       " '[#9,#17,#35,#53]',\n",
       " '[CX4]-[Cl,Br,I,F]',\n",
       " '[SX2](-[#6])-C',\n",
       " '[SH]',\n",
       " 'C=[SX1]',\n",
       " 'S(=,-[OX1;+0,-1])(=,-[OX1;+0,-1])(-[#6])-[#6]',\n",
       " 'N-S(=,-[OX1;+0,-1])(=,-[OX1;+0,-1])-[#6]',\n",
       " '[NH2]-S(=,-[OX1;+0;-1])(=,-[OX1;+0;-1])-[#6]',\n",
       " 'C1C(=O)NC(=O)NC1=O',\n",
       " 'C(=O)(-N)-N',\n",
       " 'C#[CH]',\n",
       " 'n1cncc1',\n",
       " 'o1cccc1',\n",
       " 's1cccc1',\n",
       " 'c1scnc1',\n",
       " 'c1ocnc1',\n",
       " 'n1ccccc1',\n",
       " 'N1CCCCC1',\n",
       " 'N1CCNCC1',\n",
       " 'O1CCNCC1',\n",
       " 'N1C(=O)CC1',\n",
       " '[C&R1](=O)[O&R1][C&R1]',\n",
       " '-',\n",
       " 'c1nnnn1',\n",
       " 'O1CC1',\n",
       " '[CR0;D2,D1][CR0;D2][CR0;D2][CR0;D2,D1]',\n",
       " '[R2][R2]',\n",
       " 'c1ccccc1',\n",
       " '[$(P(=[OX1])([$([OX2H]),$([OX1-]),$([OX2]P)])([$([OX2H]),$([OX1-]),$([OX2]P)])[$([OX2H]),$([OX1-]),$([OX2]P)]),$([P+]([OX1-])([$([OX2H]),$([OX1-]),$([OX2]P)])([$([OX2H]),$([OX1-]),$([OX2]P)])[$([OX2H]),$([OX1-]),$([OX2]P)])]',\n",
       " '[$(P(=[OX1])([OX2][#6])([$([OX2H]),$([OX1-]),$([OX2][#6])])[$([OX2H]),$([OX1-]),$([OX2][#6]),$([OX2]P)]),$([P+]([OX1-])([OX2][#6])([$([OX2H]),$([OX1-]),$([OX2][#6])])[$([OX2H]),$([OX1-]),$([OX2][#6]),$([OX2]P)])]',\n",
       " '[$(c1(-[$([NX3](=O)=O),$([NX3+](=O)[O-])])ccccc1)]',\n",
       " 'c-[$([NX3](=O)=O),$([NX3+](=O)[O-])]',\n",
       " '[$(c1(-[$([NX3](=O)=O),$([NX3+](=O)[O-])])ccccc1);!$(cc-!:*)]',\n",
       " '[$([NX3H1]1-C=C-C-C=C1),$([Nv3]1=C-C-C=C-C1),$([Nv3]1=C-C=C-C-C1),$([NX3H1]1-C-C=C-C=C1)]',\n",
       " '-',\n",
       " '[$(c1(-[OX2H])ccccc1);!$(cc-!:[CH2]-[OX2H]);!$(cc-!:C(=O)[O;H1,-]);!$(cc-!:C(=O)-[NH2])]',\n",
       " '[$(C-[OX2H]);!$([CX3](-[OX2H])=[OX1]);!$([CD4]-[OX2H])]',\n",
       " '[c&R2]12[c&R1][c&R1][c&R1][c&R1][c&R2]1[N&R1][C&R1][C&R1][N&R1]=[C&R1]2',\n",
       " '[$([cH]1[cH]cc(c[cH]1)~[$([#8,$([#8]~[H,c,C])])]),$([cH]1[cH]cc(c[cH]1)~[$([#7X3,$([#7](~[H,c,C])~[H,c,C])])]),$([cH]1[cH]cc(c[cH]1)-!:[$([NX3H,$(NC(=O)[H,c,C])])])]',\n",
       " '[$([cH]1[cH]cc(c[cH]1)-!:[$([OX2,$(O-[H,c,C])])]),$([cH]1[cH]cc(c[cH]1)-!:[$([NX3,$(N([H,c,C])-[H,c,C])])]),$([cH]1[cH]cc(c[cH]1)-!:[$([NX3H,$(NC(=O)[H,c,C])])])]',\n",
       " '[$(C=C-C);!$(C=C-C-[N,O,S]);!$(C=C-C-C-[N,O]);!$(C12=CC(=O)CCC1C3C(C4C(CCC4)CC3)CC2)]',\n",
       " '[$(a-[CH3]),$(a-[CH2]-[CH3]),$(a-[CH2]-[CH2]~[!N;!O]);!$(a(:a!:*):a!:*)]',\n",
       " '[$(N(-[CH3])-C-[$(C~O),$(C-a),$(C-N),$(C=C)]),$(N(-[CH2][CH3])-C-[$(C~O),$(C-a),$(C-N),$(C=C)])]',\n",
       " '[$([N&R1]1(-C)CCC1),$([N&R1]1(-C)CCCC1),$([N&R1]1(-C)CCCCC1),$([N&R1]1(-C)CCCCCC1),$([N&R1]1(-C)CCCCCCC1)]',\n",
       " 'C[NH1]C(=O)OC',\n",
       " '[$([CX3](=[OX1])(C)([c,C]));!$([CX3](=[OX1])([CH1]=C)[c,C])]',\n",
       " '[$(a-[NX3H2]),$(a-[NH1][NH2]),$(a-C(=[OX1])[NH1][NH2]),$(a-C(=[NH])[NH2])]',\n",
       " '[$([OX2H1][CX4][CX4H2][NX3&R1]),$([OH1][CX4][CX4H2][NX3][CX4](C)(C)C)]']"
      ]
     },
     "execution_count": 34,
     "metadata": {},
     "output_type": "execute_result"
    }
   ],
   "source": [
    "list(frags[\"SMARTS\"])"
   ]
  },
  {
   "cell_type": "code",
   "execution_count": null,
   "metadata": {},
   "outputs": [
    {
     "ename": "SyntaxError",
     "evalue": "invalid syntax (1386489571.py, line 1)",
     "output_type": "error",
     "traceback": [
      "\u001b[0;36m  Cell \u001b[0;32mIn[36], line 1\u001b[0;36m\u001b[0m\n\u001b[0;31m    ```\u001b[0m\n\u001b[0m    ^\u001b[0m\n\u001b[0;31mSyntaxError\u001b[0m\u001b[0;31m:\u001b[0m invalid syntax\n"
     ]
    }
   ],
   "source": [
    "```\n",
    "from rdkit import Chem\n",
    "from rdkit.Chem import BRICS\n",
    "from chemutils import get_clique_mol\n",
    "mol = mol_graph.mol\n",
    "\n",
    "n_atoms = mol.GetNumAtoms()\n",
    "if n_atoms == 1:\n",
    "    print(\"This molecule has just ONE atoms - No Motifs\")\n",
    "\n",
    "# 모든 bond 각각을 clique로 추가\n",
    "cliques = []  \n",
    "for bond in mol.GetBonds():\n",
    "    a1 = bond.GetBeginAtom().GetIdx()\n",
    "    a2 = bond.GetEndAtom().GetIdx()\n",
    "    cliques.append([a1, a2])\n",
    "\n",
    "# BRICS decomposition 수행\n",
    "res = list(BRICS.FindBRICSBonds(mol)) \n",
    "breaks = []\n",
    "if len(res) != 0:\n",
    "    for bond in res:\n",
    "        # 추출한 bond가 이미 clique에 들어 있는지 확인하고 제거\n",
    "        # 1. src -> tgt 있는지 확인하고 제거\n",
    "        if [bond[0][0], bond[0][1]] in cliques:\n",
    "            cliques.remove([bond[0][0], bond[0][1]])\n",
    "        # 아니라면 == 2. tgt -> src 있는지 확인하고 제거\n",
    "        else:\n",
    "            cliques.remove([bond[0][1], bond[0][0]])\n",
    "        \n",
    "        # 각 원자를 개별 clique로 추가\n",
    "        cliques.append([bond[0][0]])\n",
    "        cliques.append([bond[0][1]]) \n",
    "\n",
    "        # BRICS로 인해 절단된 지점 저장\n",
    "        breaks.append(bond)\n",
    "\n",
    "# clique 병합 -> BRICS는 unique하게 뽑는 게 아니라, 뽑을 수 있는 모든 걸 뽑음\n",
    "# merge cliques\n",
    "for c in range(len(cliques) - 1):\n",
    "    for k in range(c + 1, len(cliques)):\n",
    "        # 교집합이 있다면 병합\n",
    "        if len(set(cliques[c]) & set(cliques[k])) > 0: \n",
    "            cliques[c] = list(set(cliques[c]) | set(cliques[k]))\n",
    "            cliques[k] = []\n",
    "# 1. 빈 리스트로 설정된 (cliques[k] = []) clique들 제거\n",
    "# 2. 전체 원자수보다 작은 clique만 유지\n",
    "cliques = [c for c in cliques if len(c) > 0]\n",
    "cliques = [c for c in cliques if n_atoms > len(c)]\n",
    "\n",
    "# Ring 처리\n",
    "num_cli = len(cliques)\n",
    "ssr_mol = Chem.GetSymmSSSR(mol)\n",
    "for i in range(num_cli):\n",
    "    c = cliques[i]\n",
    "    cmol = get_clique_mol(mol, c)\n",
    "    ssr = Chem.GetSymmSSSR(cmol)\n",
    "    if len(ssr)>1:\n",
    "        for ring in ssr_mol:\n",
    "            if len(set(list(ring)) & set(c)) == len(list(ring)):\n",
    "                cliques.append(list(ring))\n",
    "                cliques[i] = list(set(cliques[i]) - set(list(ring)))\n",
    "cliques = [c for c in cliques if n_atoms> len(c) > 0]\n",
    "\n",
    "# 각 clique에 대한 SMARTS 생성\n",
    "clique_smarts = []\n",
    "clique_smiles = []\n",
    "for c in cliques:\n",
    "    frag = get_clique_mol(mol, c)\n",
    "    smarts = Chem.MolToSmarts(frag)\n",
    "    smiles = Chem.MolToSmiles(frag)\n",
    "    clique_smarts.append(smarts)\n",
    "    clique_smiles.append(smiles)\n",
    "```\n",
    "\n",
    "위 코드는 주어진 분자를 BRICS 분해를 통해 Clique를 추출하고, 겹치는 부분을 병합하는 과정을 통해서 분해하는 거잖아.\n",
    "코드에서는 SMARTS나 SMILES를 통해 분해된 결과를 리스트로 반환 (`clique_smarts` 혹은 `clique_smiles`)하게 되는데, 설명을 위해 숫자로 변경해볼게.\n",
    "\n",
    "예를 들어, 아스피린 (\"CC(=O)OC1=CC=CC=C1C(=O)O\")의 분해 결과는 `clique_smarts = ['[#6]-[#6]=[#8]', '[#6]1:[#6]:[#6]:[#6]:[#6]:[#6]:1', '[#8]=[#6]-[#8]', '[#8]'], clique_smiles = ['CC=O', 'c1ccccc1', 'O=CO', 'O']`가 되겠지.\n",
    "이때, 리스트 안에 들어 올 수 있는 SMARTS, SMILES는 정해져 있어? 만약 그렇다면, 미리 알 수 있는 방법이 있어?"
   ]
  },
  {
   "cell_type": "code",
   "execution_count": 37,
   "metadata": {},
   "outputs": [
    {
     "name": "stdout",
     "output_type": "stream",
     "text": [
      "Rule 0: L1\n",
      "SMARTS: [C;D3]([#0,#6,#7,#8])(=O)\n",
      "Rule 1: L3\n",
      "SMARTS: [O;D2]-;!@[#0,#6,#1]\n",
      "Rule 2: L4\n",
      "SMARTS: [C;!D1;!$(C=*)]-;!@[#6]\n",
      "Rule 3: L5\n",
      "SMARTS: [N;!D1;!$(N=*);!$(N-[!#6;!#16;!#0;!#1]);!$([N;R]@[C;R]=O)]\n",
      "Rule 4: L6\n",
      "SMARTS: [C;D3;!R](=O)-;!@[#0,#6,#7,#8]\n",
      "Rule 5: L7a\n",
      "SMARTS: [C;D2,D3]-[#6]\n",
      "Rule 6: L7b\n",
      "SMARTS: [C;D2,D3]-[#6]\n",
      "Rule 7: #L8\n",
      "SMARTS: [C;!R;!D1]-;!@[#6]\n",
      "Rule 8: L8\n",
      "SMARTS: [C;!R;!D1;!$(C!-*)]\n",
      "Rule 9: L9\n",
      "SMARTS: [n;+0;$(n(:[c,n,o,s]):[c,n,o,s])]\n",
      "Rule 10: L10\n",
      "SMARTS: [N;R;$(N(@C(=O))@[C,N,O,S])]\n",
      "Rule 11: L11\n",
      "SMARTS: [S;D2](-;!@[#0,#6])\n",
      "Rule 12: L12\n",
      "SMARTS: [S;D4]([#6,#0])(=O)(=O)\n",
      "Rule 13: L13\n",
      "SMARTS: [C;$(C(-;@[C,N,O,S])-;@[N,O,S])]\n",
      "Rule 14: L14\n",
      "SMARTS: [c;$(c(:[c,n,o,s]):[n,o,s])]\n",
      "Rule 15: L14b\n",
      "SMARTS: [c;$(c(:[c,n,o,s]):[n,o,s])]\n",
      "Rule 16: L15\n",
      "SMARTS: [C;$(C(-;@C)-;@C)]\n",
      "Rule 17: L16\n",
      "SMARTS: [c;$(c(:c):c)]\n",
      "Rule 18: L16b\n",
      "SMARTS: [c;$(c(:c):c)]\n"
     ]
    }
   ],
   "source": [
    "from rdkit import Chem\n",
    "from rdkit.Chem import BRICS\n",
    "\n",
    "# BRICS 규칙 확인\n",
    "for i, (env, bnd) in enumerate(BRICS.environs.items()):\n",
    "    print(f\"Rule {i}: {env}\")\n",
    "    print(f\"SMARTS: {bnd}\")"
   ]
  },
  {
   "cell_type": "code",
   "execution_count": 42,
   "metadata": {},
   "outputs": [
    {
     "data": {
      "image/png": "[encoded data removed]",
      "text/plain": [
       "<rdkit.Chem.rdchem.Mol at 0x7ff6cebc5e70>"
      ]
     },
     "execution_count": 42,
     "metadata": {},
     "output_type": "execute_result"
    }
   ],
   "source": [
    "smiles2 = \"C1=CC=CC=C1OC1=CC=CC=C1\"\n",
    "mol2 = Chem.MolFromSmiles(smiles2)\n",
    "mol2"
   ]
  },
  {
   "cell_type": "code",
   "execution_count": 43,
   "metadata": {},
   "outputs": [
    {
     "data": {
      "text/plain": [
       "([[0, 1, 2, 3, 4, 5], [7, 8, 9, 10, 11, 12], [6]],\n",
       " ['[#6]1:[#6]:[#6]:[#6]:[#6]:[#6]:1',\n",
       "  '[#6]1:[#6]:[#6]:[#6]:[#6]:[#6]:1',\n",
       "  '[#8]'],\n",
       " ['c1ccccc1', 'c1ccccc1', 'O'])"
      ]
     },
     "execution_count": 43,
     "metadata": {},
     "output_type": "execute_result"
    }
   ],
   "source": [
    "from rdkit import Chem\n",
    "from rdkit.Chem import BRICS\n",
    "from chemutils import get_clique_mol\n",
    "\n",
    "n_atoms = mol2.GetNumAtoms()\n",
    "if n_atoms == 1:\n",
    "    print(\"This molecule has just ONE atoms - No Motifs\")\n",
    "\n",
    "# 모든 bond 각각을 clique로 추가\n",
    "cliques = []  \n",
    "for bond in mol2.GetBonds():\n",
    "    a1 = bond.GetBeginAtom().GetIdx()\n",
    "    a2 = bond.GetEndAtom().GetIdx()\n",
    "    cliques.append([a1, a2])\n",
    "\n",
    "# BRICS decomposition 수행\n",
    "res = list(BRICS.FindBRICSBonds(mol2)) \n",
    "breaks = []\n",
    "if len(res) != 0:\n",
    "    for bond in res:\n",
    "        # 추출한 bond가 이미 clique에 들어 있는지 확인하고 제거\n",
    "        # 1. src -> tgt 있는지 확인하고 제거\n",
    "        if [bond[0][0], bond[0][1]] in cliques:\n",
    "            cliques.remove([bond[0][0], bond[0][1]])\n",
    "        # 아니라면 == 2. tgt -> src 있는지 확인하고 제거\n",
    "        else:\n",
    "            cliques.remove([bond[0][1], bond[0][0]])\n",
    "        \n",
    "        # 각 원자를 개별 clique로 추가\n",
    "        cliques.append([bond[0][0]])\n",
    "        cliques.append([bond[0][1]]) \n",
    "\n",
    "        # BRICS로 인해 절단된 지점 저장\n",
    "        breaks.append(bond)\n",
    "\n",
    "# clique 병합 -> BRICS는 unique하게 뽑는 게 아니라, 뽑을 수 있는 모든 걸 뽑음\n",
    "# merge cliques\n",
    "for c in range(len(cliques) - 1):\n",
    "    for k in range(c + 1, len(cliques)):\n",
    "        # 교집합이 있다면 병합\n",
    "        if len(set(cliques[c]) & set(cliques[k])) > 0: \n",
    "            cliques[c] = list(set(cliques[c]) | set(cliques[k]))\n",
    "            cliques[k] = []\n",
    "# 1. 빈 리스트로 설정된 (cliques[k] = []) clique들 제거\n",
    "# 2. 전체 원자수보다 작은 clique만 유지\n",
    "cliques = [c for c in cliques if len(c) > 0]\n",
    "cliques = [c for c in cliques if n_atoms > len(c)]\n",
    "\n",
    "# Ring 처리\n",
    "num_cli = len(cliques)\n",
    "ssr_mol = Chem.GetSymmSSSR(mol2)\n",
    "for i in range(num_cli):\n",
    "    c = cliques[i]\n",
    "    cmol = get_clique_mol(mol2, c)\n",
    "    ssr = Chem.GetSymmSSSR(cmol)\n",
    "    if len(ssr)>1:\n",
    "        for ring in ssr_mol:\n",
    "            if len(set(list(ring)) & set(c)) == len(list(ring)):\n",
    "                cliques.append(list(ring))\n",
    "                cliques[i] = list(set(cliques[i]) - set(list(ring)))\n",
    "cliques = [c for c in cliques if n_atoms> len(c) > 0]\n",
    "\n",
    "# 각 clique에 대한 SMARTS 생성\n",
    "clique_smarts = []\n",
    "clique_smiles = []\n",
    "for c in cliques:\n",
    "    frag = get_clique_mol(mol2, c)\n",
    "    smarts = Chem.MolToSmarts(frag)\n",
    "    smiles = Chem.MolToSmiles(frag)\n",
    "    clique_smarts.append(smarts)\n",
    "    clique_smiles.append(smiles)\n",
    "\n",
    "cliques, clique_smarts, clique_smiles"
   ]
  },
  {
   "cell_type": "markdown",
   "metadata": {},
   "source": [
    "### 2"
   ]
  }
 ],
 "metadata": {
  "kernelspec": {
   "display_name": "hight",
   "language": "python",
   "name": "python3"
  },
  "language_info": {
   "codemirror_mode": {
    "name": "ipython",
    "version": 3
   },
   "file_extension": ".py",
   "mimetype": "text/x-python",
   "name": "python",
   "nbconvert_exporter": "python",
   "pygments_lexer": "ipython3",
   "version": "3.10.15"
  }
 },
 "nbformat": 4,
 "nbformat_minor": 2
}
